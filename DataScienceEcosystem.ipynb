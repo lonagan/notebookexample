{
 "cells": [
  {
   "cell_type": "markdown",
   "id": "e6a2aba0-c5ce-4b09-b911-70bacfc1ceac",
   "metadata": {},
   "source": [
    "# data science tools and ecosystems"
   ]
  },
  {
   "cell_type": "markdown",
   "id": "c186bd91-39bf-4294-868d-541046ca0fd5",
   "metadata": {},
   "source": [
    "## author\n",
    "cassie"
   ]
  },
  {
   "cell_type": "markdown",
   "id": "9531fb74-2b96-465c-9ae6-fff80e603d77",
   "metadata": {},
   "source": [
    "in this notebook, data science tools and eocsystems are summarized"
   ]
  },
  {
   "cell_type": "markdown",
   "id": "fbd88146-6762-4d82-a618-5d86a51d2df2",
   "metadata": {},
   "source": [
    "<b>objectives</b>\n",
    "\n",
    "* list popular languages used in data science\n",
    "* list popular libraries used in data science\n",
    "* list popular tools used in data science\n",
    "* evaluate arithmetic expressions in python"
   ]
  },
  {
   "cell_type": "markdown",
   "id": "c4098556-afcf-4250-8759-0f4443829aab",
   "metadata": {},
   "source": [
    "some of the popular languages that data scientists use are:\n",
    "\n",
    "1. python\n",
    "2. r\n",
    "3. sql"
   ]
  },
  {
   "cell_type": "markdown",
   "id": "c3cf5b6a-2022-4aee-9ef5-57bef6e5f8b0",
   "metadata": {},
   "source": [
    "some of the commonly used libraries used by data scientists include:\n",
    "\n",
    "1. pandas (scientific computing python library)\n",
    "2. numpy (scientific computing python library)\n",
    "3. matplotlib (visualization python library)"
   ]
  },
  {
   "cell_type": "markdown",
   "id": "6e59814e-ac36-4507-a819-a5c91d885f0a",
   "metadata": {},
   "source": [
    "| data science tools |\n",
    "|:------------------|\n",
    "| git |\n",
    "| mysql | \n",
    "| jupyter | "
   ]
  },
  {
   "cell_type": "markdown",
   "id": "494d1c67-d039-4e1f-b431-349fefe46192",
   "metadata": {},
   "source": [
    "### below are a few examples of evaluating arithmetic expressions in python\n"
   ]
  },
  {
   "cell_type": "code",
   "execution_count": 1,
   "id": "32b8b5fc-c605-40ad-ba23-adbbf21e7c61",
   "metadata": {
    "tags": []
   },
   "outputs": [
    {
     "data": {
      "text/plain": [
       "17"
      ]
     },
     "execution_count": 1,
     "metadata": {},
     "output_type": "execute_result"
    }
   ],
   "source": [
    "# this a simple arithmetic expression to mutiply then add integers\n",
    "(3*4)+5"
   ]
  },
  {
   "cell_type": "code",
   "execution_count": 2,
   "id": "1dd4e126-e3fa-45ab-8853-b542c9d255b3",
   "metadata": {
    "tags": []
   },
   "outputs": [
    {
     "data": {
      "text/plain": [
       "3.3333333333333335"
      ]
     },
     "execution_count": 2,
     "metadata": {},
     "output_type": "execute_result"
    }
   ],
   "source": [
    "# this will convert 200 minutes to hours by dividing by 60\n",
    "200/60"
   ]
  }
 ],
 "metadata": {
  "kernelspec": {
   "display_name": "Python",
   "language": "python",
   "name": "conda-env-python-py"
  },
  "language_info": {
   "codemirror_mode": {
    "name": "ipython",
    "version": 3
   },
   "file_extension": ".py",
   "mimetype": "text/x-python",
   "name": "python",
   "nbconvert_exporter": "python",
   "pygments_lexer": "ipython3",
   "version": "3.7.12"
  }
 },
 "nbformat": 4,
 "nbformat_minor": 5
}
